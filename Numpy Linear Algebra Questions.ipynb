{
 "cells": [
  {
   "cell_type": "code",
   "execution_count": 1,
   "metadata": {},
   "outputs": [
    {
     "name": "stdout",
     "output_type": "stream",
     "text": [
      "[[16 19]\n",
      " [36 43]]\n"
     ]
    }
   ],
   "source": [
    "#Q(1):multiplication of 2 given matrixes\n",
    "import numpy as np\n",
    "m1 = np.array([[1, 2], [3, 4]])\n",
    "m2 = np.array([[4, 5], [6, 7]])\n",
    "m = np.dot(m1, m2)\n",
    "print(m)"
   ]
  },
  {
   "cell_type": "code",
   "execution_count": 2,
   "metadata": {},
   "outputs": [
    {
     "name": "stdout",
     "output_type": "stream",
     "text": [
      "[[ 4  5  6  7]\n",
      " [ 8 10 12 14]\n",
      " [12 15 18 21]\n",
      " [16 20 24 28]]\n"
     ]
    }
   ],
   "source": [
    "#Q(2):outer product of 2 given vectors\n",
    "import numpy as np\n",
    "m1 = np.array([[1, 2], [3, 4]])\n",
    "m2 = np.array([[4, 5], [6, 7]])\n",
    "m = np.outer(m1, m2)\n",
    "print(m)"
   ]
  },
  {
   "cell_type": "code",
   "execution_count": 3,
   "metadata": {},
   "outputs": [
    {
     "name": "stdout",
     "output_type": "stream",
     "text": [
      "[-3 -3]\n"
     ]
    }
   ],
   "source": [
    "#Q(3):cross product of 2 given vectors\n",
    "import numpy as np\n",
    "m1 = np.array([[1, 2], [3, 4]])\n",
    "m2 = np.array([[4, 5], [6, 7]])\n",
    "m = np.cross(m1, m2)\n",
    "print(m)"
   ]
  },
  {
   "cell_type": "code",
   "execution_count": 9,
   "metadata": {},
   "outputs": [
    {
     "name": "stdout",
     "output_type": "stream",
     "text": [
      "-2.0000000000000013\n"
     ]
    }
   ],
   "source": [
    "#Q(4):determinant of a given square array\n",
    "import numpy as np\n",
    "m1 = np.array([[4, 5], [6, 7]])\n",
    "m = np.linalg.det(m1)\n",
    "print(m)"
   ]
  },
  {
   "cell_type": "code",
   "execution_count": 12,
   "metadata": {},
   "outputs": [
    {
     "name": "stdout",
     "output_type": "stream",
     "text": [
      "[[ 24  27  30]\n",
      " [ 78  90 102]\n",
      " [132 153 174]]\n"
     ]
    }
   ],
   "source": [
    "#Q(5):Einstein's summation convention of two given multidimensional arrays\n",
    "import numpy as np\n",
    "m1 = np.array([[0, 1, 2], [3, 4, 5], [6, 7, 8]])\n",
    "m2 = np.array([[3, 4, 5], [6, 7, 8], [9, 10, 11]])\n",
    "m = np.einsum(\"mk, kn\", m1, m2)\n",
    "print(m)"
   ]
  },
  {
   "cell_type": "code",
   "execution_count": 13,
   "metadata": {},
   "outputs": [
    {
     "name": "stdout",
     "output_type": "stream",
     "text": [
      "[[ 14  23  32]\n",
      " [ 50  86 122]\n",
      " [ 86 149 212]]\n"
     ]
    }
   ],
   "source": [
    "#Q(6):inner product of vectors for 1-D arrays (without complex conjugation) and in higher dimension\n",
    "import numpy as np\n",
    "m1 = np.array([[0, 1, 2], [3, 4, 5], [6, 7, 8]])\n",
    "m2 = np.array([[3, 4, 5], [6, 7, 8], [9, 10, 11]])\n",
    "m = np.inner(m1, m2)\n",
    "print(m)"
   ]
  },
  {
   "cell_type": "code",
   "execution_count": 14,
   "metadata": {},
   "outputs": [
    {
     "name": "stdout",
     "output_type": "stream",
     "text": [
      "[2. 1.]\n",
      "[[0.89442719 0.70710678]\n",
      " [0.4472136  0.70710678]]\n"
     ]
    }
   ],
   "source": [
    "#Q(7):eigenvalues and right eigenvectors of a given square array\n",
    "import numpy as np\n",
    "m1 = np.array([[3, -2], [1, 0]])\n",
    "m, n = np.linalg.eig(m1)\n",
    "print(m)\n",
    "print(n)"
   ]
  },
  {
   "cell_type": "code",
   "execution_count": 15,
   "metadata": {},
   "outputs": [
    {
     "name": "stdout",
     "output_type": "stream",
     "text": [
      "[0 1 0 0 2 0 0 3 0]\n"
     ]
    }
   ],
   "source": [
    "#Q(8):Kronecker product of two given mulitdimension arrays\n",
    "import numpy as np\n",
    "m1 = np.array([1, 2, 3])\n",
    "m2 = np.array([0, 1, 0])\n",
    "m = np.kron(m1, m2)\n",
    "print(m)"
   ]
  },
  {
   "cell_type": "code",
   "execution_count": 16,
   "metadata": {},
   "outputs": [
    {
     "name": "stdout",
     "output_type": "stream",
     "text": [
      "1.4142135623730951\n"
     ]
    }
   ],
   "source": [
    "#Q(9):condition number of a given matrix\n",
    "import numpy as np\n",
    "m1 = np.array([[1, 0, -1], [0, 1, 0], [1, 0, 1]])\n",
    "m = np.linalg.cond(m1)\n",
    "print(m)"
   ]
  },
  {
   "cell_type": "code",
   "execution_count": 17,
   "metadata": {},
   "outputs": [
    {
     "name": "stdout",
     "output_type": "stream",
     "text": [
      "2.23606797749979\n"
     ]
    }
   ],
   "source": [
    "#Q(10):find a matrix or vector norm\n",
    "import numpy as np\n",
    "m1 = np.array([[1, 0, -1], [0, 1, 0], [1, 0, 1]])\n",
    "m = np.linalg.norm(m1)\n",
    "print(m)"
   ]
  },
  {
   "cell_type": "code",
   "execution_count": 18,
   "metadata": {},
   "outputs": [
    {
     "name": "stdout",
     "output_type": "stream",
     "text": [
      "-2.0000000000000004\n"
     ]
    }
   ],
   "source": [
    "#Q(11):compute the determinant of an array\n",
    "import numpy as np\n",
    "m1 = np.array([[1,2],[3,4]])\n",
    "m = np.linalg.det(m1)\n",
    "print(m)"
   ]
  },
  {
   "cell_type": "code",
   "execution_count": 19,
   "metadata": {},
   "outputs": [
    {
     "name": "stdout",
     "output_type": "stream",
     "text": [
      "[[-2.   1. ]\n",
      " [ 1.5 -0.5]]\n"
     ]
    }
   ],
   "source": [
    "#Q(12):compute the inverse of a given matrix\n",
    "import numpy as np\n",
    "m1 = np.array([[1,2],[3,4]])\n",
    "m = np.linalg.inv(m1)\n",
    "print(m)"
   ]
  },
  {
   "cell_type": "code",
   "execution_count": 20,
   "metadata": {},
   "outputs": [
    {
     "name": "stdout",
     "output_type": "stream",
     "text": [
      "(array([[-0.31622777, -0.9486833 ],\n",
      "       [-0.9486833 ,  0.31622777]]), array([[-3.16227766, -4.42718872],\n",
      "       [ 0.        , -0.63245553]]))\n"
     ]
    }
   ],
   "source": [
    "#Q(13):calculate the QR decomposition of a given matrix\n",
    "import numpy as np\n",
    "m1 = np.array([[1,2],[3,4]])\n",
    "m = np.linalg.qr(m1)\n",
    "print(m)"
   ]
  },
  {
   "cell_type": "code",
   "execution_count": 21,
   "metadata": {},
   "outputs": [
    {
     "name": "stdout",
     "output_type": "stream",
     "text": [
      "14.933034373659265\n"
     ]
    }
   ],
   "source": [
    "#Q(14):compute the condition number of a given matrix\n",
    "import numpy as np\n",
    "m1 = np.array([[1,2],[3,4]])\n",
    "m = np.linalg.cond(m1)\n",
    "print(m)"
   ]
  },
  {
   "cell_type": "code",
   "execution_count": 22,
   "metadata": {},
   "outputs": [
    {
     "name": "stdout",
     "output_type": "stream",
     "text": [
      "4\n"
     ]
    }
   ],
   "source": [
    "#Q(15):compute the sum of the diagonal element of a given array\n",
    "import numpy as np\n",
    "m1 = np.array([[0, 1, 2], [3, 4, 5]])\n",
    "m = np.trace(m1)\n",
    "print(m)"
   ]
  }
 ],
 "metadata": {
  "kernelspec": {
   "display_name": "Python 3",
   "language": "python",
   "name": "python3"
  },
  "language_info": {
   "codemirror_mode": {
    "name": "ipython",
    "version": 3
   },
   "file_extension": ".py",
   "mimetype": "text/x-python",
   "name": "python",
   "nbconvert_exporter": "python",
   "pygments_lexer": "ipython3",
   "version": "3.7.6"
  }
 },
 "nbformat": 4,
 "nbformat_minor": 4
}
